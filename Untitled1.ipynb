{
 "cells": [
  {
   "cell_type": "markdown",
   "metadata": {},
   "source": [
    "<b> 2. </b> La relación entre el esfuerzo $\\sigma$ y el estiramiento $\\epsilon$ de un determinado material biológico sometido a una tensión unidimensional es\n",
    "$$ \\frac{d\\sigma}{d\\epsilon} = a +b\\sigma $$\n",
    "donde $a$ y $b$ son constantes. La siguiente tabla muestra los resultados de una tensión sobre el material\n",
    "\n",
    "| Estiramiento | Esfuerzo |\n",
    "| --- | --- |\n",
    "| 0 | 0 |\n",
    "| 0.05 | 0.252 |\n",
    "| 0.10 | 0.531 |\n",
    "| 0.15 | 0.840 |\n",
    "| 0.20 | 1.184 |\n",
    "| 0.25 | 1.558 |\n",
    "| 0.30 | 1.975 |\n",
    "| 0.35 | 2.444 |\n",
    "| 0.40 | 2.943 |\n",
    "| 0.45 | 3.500 |\n",
    "| 0.50 | 4.115 |\n",
    "\n",
    "Escriba un programa que gráfique el módulo de la tangente $d\\sigma/d\\epsilon$ contra $\\sigma$ y compare con el calculo de los parámetros $a$ y $b$ por medio de una regresión lineal."
   ]
  },
  {
   "cell_type": "code",
   "execution_count": null,
   "metadata": {},
   "outputs": [],
   "source": []
  }
 ],
 "metadata": {
  "kernelspec": {
   "display_name": "Python 3",
   "language": "python",
   "name": "python3"
  },
  "language_info": {
   "codemirror_mode": {
    "name": "ipython",
    "version": 3
   },
   "file_extension": ".py",
   "mimetype": "text/x-python",
   "name": "python",
   "nbconvert_exporter": "python",
   "pygments_lexer": "ipython3",
   "version": "3.6.6"
  }
 },
 "nbformat": 4,
 "nbformat_minor": 2
}
