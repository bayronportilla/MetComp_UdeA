{
 "cells": [
  {
   "cell_type": "code",
   "execution_count": 1,
   "metadata": {
    "collapsed": true
   },
   "outputs": [],
   "source": [
    "import numpy as np\n",
    "import matplotlib.pyplot as plt"
   ]
  },
  {
   "cell_type": "code",
   "execution_count": 2,
   "metadata": {
    "collapsed": true
   },
   "outputs": [],
   "source": [
    "# Este script calcula numéricamente el valor de una integral definida\n",
    "# usando la regla de simpson compuesta"
   ]
  },
  {
   "cell_type": "markdown",
   "metadata": {},
   "source": [
    "Vamos a integrar:\n",
    "\n",
    "$\\int_e^{e+2} \\frac{1}{x \\ln x}$ dx"
   ]
  },
  {
   "cell_type": "code",
   "execution_count": 31,
   "metadata": {},
   "outputs": [],
   "source": [
    "\n",
    "# El integrando\n",
    "def f(x):\n",
    "    value = 1/(x*np.log(x))\n",
    "    return value\n",
    "    \n",
    "# Generamos el arreglo de nodos x_j\n",
    "\n",
    "\n",
    "\n",
    "def int_simp_comp(f,a,b,n):\n",
    "        \n",
    "    h = (b-a)/n\n",
    "    \n",
    "    xj = []\n",
    "\n",
    "    for j in range(0,n+1):\n",
    "        xj.append(a+j*h)\n",
    "\n",
    "    # El número de entradas de la lista xj debe ser n+1\n",
    "    # o sea, IMPAR\n",
    "\n",
    "    suma_impar = 0.0\n",
    "    suma_par = 0.0\n",
    "\n",
    "\n",
    "    for i in range(1,int(n/2)+1):\n",
    "        suma_impar = suma_impar+f(xj[2*i-1])\n",
    "\n",
    "    for i in range(1,int(n/2)):\n",
    "        suma_par = suma_par+f(xj[2*i])\n",
    "    \n",
    "    valor = h/3*(f(xj[0]) + 4*suma_impar + 2*suma_par + f(xj[n]))\n",
    "    \n",
    "    return valor"
   ]
  },
  {
   "cell_type": "code",
   "execution_count": 30,
   "metadata": {},
   "outputs": [
    {
     "name": "stdout",
     "output_type": "stream",
     "text": [
      "0.43918657166\n"
     ]
    }
   ],
   "source": [
    "print(int_simp_comp(f,np.e,np.e+2,80))"
   ]
  },
  {
   "cell_type": "code",
   "execution_count": null,
   "metadata": {
    "collapsed": true
   },
   "outputs": [],
   "source": []
  },
  {
   "cell_type": "code",
   "execution_count": null,
   "metadata": {},
   "outputs": [],
   "source": []
  },
  {
   "cell_type": "code",
   "execution_count": null,
   "metadata": {
    "collapsed": true
   },
   "outputs": [],
   "source": []
  }
 ],
 "metadata": {
  "kernelspec": {
   "display_name": "Python 3",
   "language": "python",
   "name": "python3"
  },
  "language_info": {
   "codemirror_mode": {
    "name": "ipython",
    "version": 3
   },
   "file_extension": ".py",
   "mimetype": "text/x-python",
   "name": "python",
   "nbconvert_exporter": "python",
   "pygments_lexer": "ipython3",
   "version": "3.6.3"
  }
 },
 "nbformat": 4,
 "nbformat_minor": 2
}
