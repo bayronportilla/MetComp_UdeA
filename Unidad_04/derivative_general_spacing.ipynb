{
 "cells": [
  {
   "cell_type": "code",
   "execution_count": 1,
   "metadata": {
    "collapsed": true
   },
   "outputs": [],
   "source": [
    "import numpy as np\n",
    "import matplotlib.pyplot as plt"
   ]
  },
  {
   "cell_type": "code",
   "execution_count": 2,
   "metadata": {
    "collapsed": true
   },
   "outputs": [],
   "source": [
    "# La lista debe estar ordenada\n",
    "x_list = [1.8,1.9,2.0,2.1,2.2]\n",
    "y_list = [10.889365,12.703199,14.778112,17.148957,19.855030]"
   ]
  },
  {
   "cell_type": "code",
   "execution_count": 3,
   "metadata": {
    "collapsed": true
   },
   "outputs": [],
   "source": [
    "def dfdx(x_list,y_list,x):\n",
    "    if x==x_list[0]:\n",
    "        x0 = x_list[0]\n",
    "        y0 = y_list[0]\n",
    "        \n",
    "        x1 = x_list[1] \n",
    "        y1 = y_list[1]\n",
    "        \n",
    "        x2 = x_list[2]\n",
    "        y2 = y_list[2]\n",
    "        \n",
    "        xj = x0\n",
    "        \n",
    "    elif x==x_list[len(x_list)-1]:\n",
    "        x0 = x_list[len(x_list)-1]\n",
    "        y0 = y_list[len(y_list)-1]\n",
    "        \n",
    "        x1 = x_list[len(x_list)-2]\n",
    "        y1 = y_list[len(y_list)-2]\n",
    "        \n",
    "        x2 = x_list[len(x_list)-3]\n",
    "        y2 = y_list[len(y_list)-3]\n",
    "        \n",
    "        xj = x0\n",
    "    else:\n",
    "        i=x_list.index(x)\n",
    "        \n",
    "        x0 = x_list[i]\n",
    "        y0 = y_list[i]\n",
    "        \n",
    "        x1 = x_list[i-1]\n",
    "        y1 = y_list[i-1]\n",
    "        \n",
    "        x2 = x_list[i+1]\n",
    "        y2 = y_list[i+1]\n",
    "        \n",
    "        xj = x0\n",
    "        \n",
    "    dL0dx = (2*xj-x1-x2)/((x0-x1)*(x0-x2))\n",
    "    dL1dx = (2*xj-x0-x2)/((x1-x0)*(x1-x2))\n",
    "    dL2dx = (2*xj-x0-x1)/((x2-x0)*(x2-x1))\n",
    "    \n",
    "    value = dL0dx*y0 + dL1dx*y1 + dL2dx*y2 \n",
    "\n",
    "    return value\n",
    "    "
   ]
  },
  {
   "cell_type": "code",
   "execution_count": 5,
   "metadata": {},
   "outputs": [
    {
     "name": "stdout",
     "output_type": "stream",
     "text": [
      "exacto=22.167168\n",
      "approx=22.228790\n"
     ]
    },
    {
     "data": {
      "image/png": "[encoded data removed]",
      "text/plain": [
       "<matplotlib.figure.Figure at 0x7f22d44cfef0>"
      ]
     },
     "metadata": {},
     "output_type": "display_data"
    }
   ],
   "source": [
    "def dfdx_exact(x):\n",
    "    value = np.e**x + x*np.e**x\n",
    "    return value\n",
    "\n",
    "x_exact     = np.linspace(min(x_list),max(x_list),100)\n",
    "dfdx_exact_array  = dfdx_exact(x_exact)\n",
    "\n",
    "dfdx_approx = []\n",
    "\n",
    "for i in range(0,len(x_list)):\n",
    "    dfdx_approx.append(dfdx(x_list,y_list,x_list[i]))\n",
    "\n",
    "print(\"exacto=%f\"%dfdx_exact(2.0))\n",
    "print(\"approx=%f\"%dfdx(x_list,y_list,2.0))\n",
    "fig=plt.figure()\n",
    "ax=plt.axes()\n",
    "ax.plot(x_exact,dfdx_exact_array)\n",
    "ax.plot(x_list,dfdx_approx,'*')\n",
    "plt.show()"
   ]
  },
  {
   "cell_type": "code",
   "execution_count": null,
   "metadata": {
    "collapsed": true
   },
   "outputs": [],
   "source": []
  }
 ],
 "metadata": {
  "kernelspec": {
   "display_name": "Python 3",
   "language": "python",
   "name": "python3"
  },
  "language_info": {
   "codemirror_mode": {
    "name": "ipython",
    "version": 3
   },
   "file_extension": ".py",
   "mimetype": "text/x-python",
   "name": "python",
   "nbconvert_exporter": "python",
   "pygments_lexer": "ipython3",
   "version": "3.6.3"
  }
 },
 "nbformat": 4,
 "nbformat_minor": 2
}
