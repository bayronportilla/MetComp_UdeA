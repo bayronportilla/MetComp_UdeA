{
 "cells": [
  {
   "cell_type": "markdown",
   "metadata": {},
   "source": [
    "# Interpolación vía Polinomios de Lagrange"
   ]
  },
  {
   "cell_type": "code",
   "execution_count": 1,
   "metadata": {},
   "outputs": [],
   "source": [
    "import numpy as np\n",
    "import matplotlib.pyplot as plt"
   ]
  },
  {
   "cell_type": "code",
   "execution_count": 16,
   "metadata": {},
   "outputs": [],
   "source": [
    "#x_list=[0,2,4,6]\n",
    "#y_list=[1,5,3,-7]\n",
    "\n",
    "datos=np.loadtxt(\"stellar_radius.dat\")\n",
    "\n",
    "x_list_uo=[]\n",
    "y_list_uo=[]\n",
    "\n",
    "\n",
    "for i in range(0,datos.shape[0]):\n",
    "    x_list_uo.append(datos[i][0])\n",
    "    y_list_uo.append(datos[i][1])\n",
    "\n",
    "x_list,y_list=zip(*sorted(zip(x_list_uo,y_list_uo)))\n"
   ]
  },
  {
   "cell_type": "code",
   "execution_count": 17,
   "metadata": {},
   "outputs": [],
   "source": [
    "def PolyLagrange(x_list,y_list,x):\n",
    "    sum=0\n",
    "    for i in range(0,len(x_list)):\n",
    "        prod=1\n",
    "        for j in range(0,len(x_list)):\n",
    "            if(j!=i):\n",
    "                prod=prod*(x-x_list[j])/(x_list[i]-x_list[j])\n",
    "        sum = sum + y_list[i]*prod\n",
    "    return sum\n",
    "        "
   ]
  },
  {
   "cell_type": "code",
   "execution_count": 11,
   "metadata": {},
   "outputs": [
    {
     "name": "stdout",
     "output_type": "stream",
     "text": [
      "El error es = 524.37585 por ciento\n"
     ]
    }
   ],
   "source": [
    "y_derivado=PolyLagrange(x_list,y_list,0.45)\n",
    "y_exacto=np.log(1+0.45)\n",
    "error=abs((y_derivado-y_exacto)/y_exacto * 100)\n",
    "print(\"El error es = %.5f por ciento\"%error)\n"
   ]
  },
  {
   "cell_type": "code",
   "execution_count": 18,
   "metadata": {},
   "outputs": [],
   "source": [
    "x_array=np.linspace(min(x_list),max(x_list),5000)\n",
    "y_array=[]"
   ]
  },
  {
   "cell_type": "code",
   "execution_count": 19,
   "metadata": {},
   "outputs": [],
   "source": [
    "for i in range(0,len(x_array)):\n",
    "    y_array.append(PolyLagrange(x_list,y_list,x_array[i]))"
   ]
  },
  {
   "cell_type": "code",
   "execution_count": 20,
   "metadata": {},
   "outputs": [
    {
     "data": {
      "image/png": "[encoded data removed]",
      "text/plain": [
       "<Figure size 432x288 with 1 Axes>"
      ]
     },
     "metadata": {
      "needs_background": "light"
     },
     "output_type": "display_data"
    }
   ],
   "source": [
    "fig=plt.figure()\n",
    "ax=plt.axes()\n",
    "ax.plot(x_list,y_list,'*')\n",
    "ax.plot(x_array,y_array)\n",
    "plt.show()"
   ]
  },
  {
   "cell_type": "code",
   "execution_count": null,
   "metadata": {
    "collapsed": true
   },
   "outputs": [],
   "source": []
  }
 ],
 "metadata": {
  "kernelspec": {
   "display_name": "Python 3",
   "language": "python",
   "name": "python3"
  },
  "language_info": {
   "codemirror_mode": {
    "name": "ipython",
    "version": 3
   },
   "file_extension": ".py",
   "mimetype": "text/x-python",
   "name": "python",
   "nbconvert_exporter": "python",
   "pygments_lexer": "ipython3",
   "version": "3.6.6"
  }
 },
 "nbformat": 4,
 "nbformat_minor": 2
}
