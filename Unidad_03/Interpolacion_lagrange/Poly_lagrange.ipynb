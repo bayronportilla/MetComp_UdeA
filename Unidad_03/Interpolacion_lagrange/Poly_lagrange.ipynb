{
 "cells": [
  {
   "cell_type": "markdown",
   "metadata": {},
   "source": [
    "# Interpolación vía Polinomios de Lagrange"
   ]
  },
  {
   "cell_type": "code",
   "execution_count": 1,
   "metadata": {
    "collapsed": true
   },
   "outputs": [],
   "source": [
    "import numpy as np\n",
    "import matplotlib.pyplot as plt"
   ]
  },
  {
   "cell_type": "code",
   "execution_count": 60,
   "metadata": {},
   "outputs": [],
   "source": [
    "x_list=[0.0,0.6,0.9]\n",
    "y_list=[np.log(1+0.0),np.log(1+0.6),np.log(1+0.9)]"
   ]
  },
  {
   "cell_type": "code",
   "execution_count": 61,
   "metadata": {
    "collapsed": true
   },
   "outputs": [],
   "source": [
    "def PolyLagrange(x_list,y_list,x):\n",
    "    sum=0\n",
    "    for i in range(0,len(x_list)):\n",
    "        prod=1\n",
    "        for j in range(0,len(x_list)):\n",
    "            if(j!=i):\n",
    "                prod=prod*(x-x_list[j])/(x_list[i]-x_list[j])\n",
    "        sum = sum + y_list[i]*prod\n",
    "    return sum\n",
    "        "
   ]
  },
  {
   "cell_type": "code",
   "execution_count": 62,
   "metadata": {},
   "outputs": [
    {
     "name": "stdout",
     "output_type": "stream",
     "text": [
      "El error es = 0.88086 por ciento\n"
     ]
    }
   ],
   "source": [
    "y_derivado=PolyLagrange(x_list,y_list,0.45)\n",
    "y_exacto=np.log(1+0.45)\n",
    "error=abs((y_derivado-y_exacto)/y_exacto * 100)\n",
    "print(\"El error es = %.5f por ciento\"%error)\n"
   ]
  },
  {
   "cell_type": "code",
   "execution_count": 49,
   "metadata": {},
   "outputs": [],
   "source": [
    "x_array=np.linspace(min(x_list),max(x_list),10000)\n",
    "y_array=[]"
   ]
  },
  {
   "cell_type": "code",
   "execution_count": 50,
   "metadata": {
    "collapsed": true
   },
   "outputs": [],
   "source": [
    "for i in range(0,len(x_array)):\n",
    "    y_array.append(PolyLagrange(x_list,y_list,x_array[i]))"
   ]
  },
  {
   "cell_type": "code",
   "execution_count": 51,
   "metadata": {},
   "outputs": [
    {
     "data": {
      "image/png": "[encoded data removed]",
      "text/plain": [
       "<matplotlib.figure.Figure at 0x7f53f1f21b70>"
      ]
     },
     "metadata": {},
     "output_type": "display_data"
    }
   ],
   "source": [
    "fig=plt.figure()\n",
    "ax=plt.axes()\n",
    "ax.plot(x_list,y_list,'*')\n",
    "ax.plot(x_array,y_array)\n",
    "plt.show()"
   ]
  },
  {
   "cell_type": "code",
   "execution_count": null,
   "metadata": {
    "collapsed": true
   },
   "outputs": [],
   "source": []
  }
 ],
 "metadata": {
  "kernelspec": {
   "display_name": "Python 3",
   "language": "python",
   "name": "python3"
  },
  "language_info": {
   "codemirror_mode": {
    "name": "ipython",
    "version": 3
   },
   "file_extension": ".py",
   "mimetype": "text/x-python",
   "name": "python",
   "nbconvert_exporter": "python",
   "pygments_lexer": "ipython3",
   "version": "3.6.3"
  }
 },
 "nbformat": 4,
 "nbformat_minor": 2
}
