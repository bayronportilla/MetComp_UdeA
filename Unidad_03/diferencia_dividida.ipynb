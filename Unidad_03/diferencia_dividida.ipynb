{
 "cells": [
  {
   "cell_type": "code",
   "execution_count": 5,
   "metadata": {},
   "outputs": [],
   "source": [
    "import numpy as np\n",
    "import matplotlib.pyplot as plt"
   ]
  },
  {
   "cell_type": "code",
   "execution_count": 12,
   "metadata": {},
   "outputs": [
    {
     "name": "stdout",
     "output_type": "stream",
     "text": [
      "[[0. 0. 0.]\n",
      " [0. 0. 0.]\n",
      " [0. 0. 0.]]\n"
     ]
    }
   ],
   "source": [
    "# Puntos experimentales\n",
    "x_list=[1.3,1.6,1.9]\n",
    "y_list=[0.6200860,0.4554022,0.2818186]\n",
    "dydx_list=[-0.5220232,-0.5698959,-0.5811571]\n",
    "\n",
    "n=len(x_list) # Número de puntos experimentales\n",
    "\n",
    "A=np.zeros((n,n))\n",
    "print(A)"
   ]
  },
  {
   "cell_type": "code",
   "execution_count": 50,
   "metadata": {},
   "outputs": [],
   "source": [
    "# Llenando la diagonal \n",
    "def DiferenciaDividida(x_list,y_list,dydx_list):\n",
    "    \n",
    "    s=len(x_list) # Numero total de puntos experimentales\n",
    "    \n",
    "    # Creando matriz de ceros\n",
    "    T=np.zeros((2*s,2*s))\n",
    "    \n",
    "    # Crear secuencia de Z\n",
    "    z=np.zeros(2*s)\n",
    "    for i in range(0,len(z)):\n",
    "        z[i]=x_list[int(i/2)]\n",
    "        \n",
    "    # Llenando diagonal principal\n",
    "    \n",
    "    for i in range(0,2*s):\n",
    "        for j in range(0,2*s):\n",
    "            if i==j:\n",
    "                T[i][j]=y_list[int(i/2)]\n",
    "        \n",
    "    # Llenagmos la matriz triangular superior\n",
    "    for k in range(1,2*s):\n",
    "        for i in range(0,2*s-1):\n",
    "            for j in range(1,2*s):\n",
    "                if j!=i and j==i+k and z[j]!=z[i]:\n",
    "                    T[i][j]=(T[i+1][j]-T[i][j-1])/(z[j]-z[i])\n",
    "                elif j!=i and j==i+k and z[j]==z[i]:\n",
    "                    T[i][j]=dydx_list[int(i/2)]\n",
    "    \n",
    "    \n",
    "    \n",
    "    \"\"\"\n",
    "    for i in range(0,n):\n",
    "        for j in range(0,n):\n",
    "            if i==j:\n",
    "                A[i][j]=y_list[j]\n",
    "            else:\n",
    "                continue\n",
    "\n",
    "    # Llenagmos la matriz triangular superior\n",
    "    for k in range(1,n):\n",
    "        for i in range(0,n-1):\n",
    "            for j in range(1,n):\n",
    "                if j!=i and j==i+k:\n",
    "                #T[i][j]=(T[i+1][j]-T[i][j-1])/(x_list[j]-x_list[i])\n",
    "                    A[i][j]=(A[i+1][j]̣-A[i][j-1])/(x_list[j]-x_list[i])\n",
    "    \"\"\"\n",
    "    return T"
   ]
  },
  {
   "cell_type": "code",
   "execution_count": 47,
   "metadata": {},
   "outputs": [
    {
     "name": "stdout",
     "output_type": "stream",
     "text": [
      "0 1\n",
      "2 3\n",
      "4 5\n",
      "[[ 0.620086  -0.5220232 -0.0897427  0.0663656  0.0026667 -0.0027747]\n",
      " [ 0.         0.620086  -0.548946  -0.069833   0.0679656  0.0010019]\n",
      " [ 0.         0.         0.4554022 -0.5698959 -0.0290537  0.0685667]\n",
      " [ 0.         0.         0.         0.4554022 -0.578612  -0.0084837]\n",
      " [ 0.         0.         0.         0.         0.2818186 -0.5811571]\n",
      " [ 0.         0.         0.         0.         0.         0.2818186]]\n"
     ]
    }
   ],
   "source": [
    "np.set_printoptions(precision=7)\n",
    "print(DiferenciaDividida(x_list,y_list,dydx_list))"
   ]
  },
  {
   "cell_type": "code",
   "execution_count": 59,
   "metadata": {},
   "outputs": [],
   "source": [
    "# El polinomio de hermite\n",
    "\n",
    "def PolyHermite(x_list,y_list,dydx_list,x):\n",
    "    \n",
    "    n=len(x_list)-1\n",
    "    \n",
    "    # Crear secuencia de Z\n",
    "    z=np.zeros(2*(n+1))\n",
    "    for i in range(0,len(z)):\n",
    "        z[i]=x_list[int(i/2)]\n",
    "    \n",
    "    T=DiferenciaDividida(x_list,y_list,dydx_list)\n",
    "    \n",
    "    sum=T[0][0]\n",
    "    for i in range(1,2*len(x_list)):\n",
    "        prod=1\n",
    "        for j in range(0,i):\n",
    "            prod=prod*(x-z[j])\n",
    "        sum=sum+prod*T[0][i]\n",
    "                                                           \n",
    "\n",
    "    \n",
    "    return sum"
   ]
  },
  {
   "cell_type": "code",
   "execution_count": 60,
   "metadata": {},
   "outputs": [
    {
     "name": "stdout",
     "output_type": "stream",
     "text": [
      "1.0019440646910471\n"
     ]
    }
   ],
   "source": [
    "print(PolyHermite(x_list,y_list,dydx_list,0))"
   ]
  },
  {
   "cell_type": "code",
   "execution_count": 64,
   "metadata": {},
   "outputs": [
    {
     "data": {
      "text/plain": [
       "[<matplotlib.lines.Line2D at 0x7fc6593706d8>]"
      ]
     },
     "execution_count": 64,
     "metadata": {},
     "output_type": "execute_result"
    },
    {
     "data": {
      "image/png": "[encoded data removed]",
      "text/plain": [
       "<Figure size 432x288 with 1 Axes>"
      ]
     },
     "metadata": {
      "needs_background": "light"
     },
     "output_type": "display_data"
    }
   ],
   "source": [
    "\n",
    "x_interpolado=np.linspace(min(x_list),max(x_list),1000)\n",
    "y_interpolado=PolyHermite(x_list,y_list,dydx_list,x_interpolado)\n",
    "\n",
    "fig=plt.figure()\n",
    "ax=plt.axes()\n",
    "ax.plot(x_list,y_list,'.')\n",
    "ax.plot(x_interpolado,y_interpolado)"
   ]
  },
  {
   "cell_type": "code",
   "execution_count": null,
   "metadata": {},
   "outputs": [],
   "source": []
  }
 ],
 "metadata": {
  "kernelspec": {
   "display_name": "Python 3",
   "language": "python",
   "name": "python3"
  },
  "language_info": {
   "codemirror_mode": {
    "name": "ipython",
    "version": 3
   },
   "file_extension": ".py",
   "mimetype": "text/x-python",
   "name": "python",
   "nbconvert_exporter": "python",
   "pygments_lexer": "ipython3",
   "version": "3.6.6"
  }
 },
 "nbformat": 4,
 "nbformat_minor": 2
}
